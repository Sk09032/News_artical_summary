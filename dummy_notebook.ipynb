{
 "cells": [
  {
   "cell_type": "code",
   "execution_count": 1,
   "metadata": {},
   "outputs": [
    {
     "name": "stdout",
     "output_type": "stream",
     "text": [
      "hy\n"
     ]
    }
   ],
   "source": [
    "print(\"hy\")"
   ]
  },
  {
   "cell_type": "code",
   "execution_count": 2,
   "metadata": {},
   "outputs": [],
   "source": [
    "import newspaper"
   ]
  },
  {
   "cell_type": "code",
   "execution_count": 3,
   "metadata": {},
   "outputs": [],
   "source": [
    "from newspaper import Article"
   ]
  },
  {
   "cell_type": "code",
   "execution_count": 18,
   "metadata": {},
   "outputs": [],
   "source": [
    "url=\"https://timesofindia.indiatimes.com/india/50-commonly-used-drugs-found-substandard-companies-say-products-spurious-not-theirs/articleshow/113679248.cms\"\n",
    "artical=Article(url)"
   ]
  },
  {
   "cell_type": "code",
   "execution_count": 19,
   "metadata": {},
   "outputs": [],
   "source": [
    "artical.download()"
   ]
  },
  {
   "cell_type": "code",
   "execution_count": 20,
   "metadata": {},
   "outputs": [],
   "source": [
    "artical.parse()"
   ]
  },
  {
   "cell_type": "code",
   "execution_count": 21,
   "metadata": {},
   "outputs": [
    {
     "data": {
      "text/plain": [
       "['Tnn']"
      ]
     },
     "execution_count": 21,
     "metadata": {},
     "output_type": "execute_result"
    }
   ],
   "source": [
    "artical.authors"
   ]
  },
  {
   "cell_type": "code",
   "execution_count": 22,
   "metadata": {},
   "outputs": [],
   "source": [
    "artical.publish_date"
   ]
  },
  {
   "cell_type": "code",
   "execution_count": 24,
   "metadata": {},
   "outputs": [
    {
     "data": {
      "text/plain": [
       "'50 commonly used drugs found substandard, companies say products spurious, not theirs'"
      ]
     },
     "execution_count": 24,
     "metadata": {},
     "output_type": "execute_result"
    }
   ],
   "source": [
    "artical.title"
   ]
  },
  {
   "cell_type": "code",
   "execution_count": 23,
   "metadata": {},
   "outputs": [
    {
     "name": "stdout",
     "output_type": "stream",
     "text": [
      "NEW DELHI: More than 50 drugs being sold in the market that are prescribed for common conditions such as high blood pressure, acid reflux and erectile dysfunction have been found to be not-of-standard quality by Central Drug Standards Control Organisation (CDSCO) in its latest survey. CDSCO, the apex body responsible for approval of new drugs and clinical trials , has issued an alert saying such drugs are being freely sold in the market.According to its latest data, last month, certain batches of more than 50 drugs manufactured by various companies were found to be not-of-standard quality. This included drugs sold by leading companies.For example, a specific batch of Pulmosil (Sildenafil injection) manufactured by Sun Pharmaceuticals was found to be not-of-standard quality. The company, however, claimed in its response to CDSCO that the tainted batch of the product was not been manufactured by it and that it was a spurious drug. A specific batch of Pantocid, commonly used for acid reflux and indigestion, manufactured by the same company was also found to be spurious.One particular batch of Telma H (Telmisartan 40mg and Hydrochlorothiazide 12.5mg tablets IP), a combination of two medicines used to control blood pressure, manufactured by Glenmark Pharmaceuticals was found to be non-standard. Glenmark, too, claimed the particular batch was not made by it.One batch of Amoxicillin and Potassium Clavulanate tablets IP (Clavam 625) manufactured by Alkem Health Science, another leading pharmaceutical company, also failed to meet the standards.\"The failure of any specific batch of a drug to meet the standards does not mean all drugs being sold by that name are substandard. Also, quality issues are monitored periodically and often addressed promptly to prevent any public health issues,\" a senior official from CDSCO said.Drug regulatory bodies carry out random sampling and tests on a regular basis to spot and alert the authorities about potential violation of Good Manufacturing Practices (GMP). Officials said there hasn't been any significant increase in the number of samples found to be lacking in the desired standards. However, they added that the govt continues to keep up the pressure, so the manufacturing process improves and there is no violation at all.\n"
     ]
    }
   ],
   "source": [
    "print(artical.text)"
   ]
  },
  {
   "cell_type": "code",
   "execution_count": null,
   "metadata": {},
   "outputs": [],
   "source": []
  }
 ],
 "metadata": {
  "kernelspec": {
   "display_name": "venv",
   "language": "python",
   "name": "python3"
  },
  "language_info": {
   "codemirror_mode": {
    "name": "ipython",
    "version": 3
   },
   "file_extension": ".py",
   "mimetype": "text/x-python",
   "name": "python",
   "nbconvert_exporter": "python",
   "pygments_lexer": "ipython3",
   "version": "3.8.19"
  }
 },
 "nbformat": 4,
 "nbformat_minor": 2
}
